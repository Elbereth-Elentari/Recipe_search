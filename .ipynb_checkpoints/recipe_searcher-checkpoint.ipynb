{
 "cells": [
  {
   "cell_type": "code",
   "execution_count": 119,
   "metadata": {},
   "outputs": [],
   "source": [
    "import json\n",
    "import pandas as pd\n",
    "import os\n",
    "import re\n",
    "import numpy as np\n",
    "pd.set_option(\"display.max_rows\", None)\n",
    "pd.set_option('display.max_colwidth', -1)"
   ]
  },
  {
   "cell_type": "code",
   "execution_count": 120,
   "metadata": {},
   "outputs": [
    {
     "data": {
      "text/plain": [
       "21772"
      ]
     },
     "execution_count": 120,
     "metadata": {},
     "output_type": "execute_result"
    }
   ],
   "source": [
    "with open(\"recipes.json\", \"r\") as all_jsons:\n",
    "    all_recipes = json.load(all_jsons)\n",
    "r = pd.DataFrame(all_recipes)\n",
    "len(all_recipes)"
   ]
  },
  {
   "cell_type": "code",
   "execution_count": 122,
   "metadata": {},
   "outputs": [
    {
     "name": "stderr",
     "output_type": "stream",
     "text": [
      "c:\\users\\helen\\appdata\\local\\programs\\python\\python36-32\\lib\\site-packages\\ipykernel_launcher.py:1: SettingWithCopyWarning: \n",
      "A value is trying to be set on a copy of a slice from a DataFrame\n",
      "\n",
      "See the caveats in the documentation: http://pandas.pydata.org/pandas-docs/stable/indexing.html#indexing-view-versus-copy\n",
      "  \"\"\"Entry point for launching an IPython kernel.\n",
      "c:\\users\\helen\\appdata\\local\\programs\\python\\python36-32\\lib\\site-packages\\ipykernel_launcher.py:2: SettingWithCopyWarning: \n",
      "A value is trying to be set on a copy of a slice from a DataFrame\n",
      "\n",
      "See the caveats in the documentation: http://pandas.pydata.org/pandas-docs/stable/indexing.html#indexing-view-versus-copy\n",
      "  \n"
     ]
    }
   ],
   "source": [
    "r[\"likes\"][r[\"likes\"] == \"\"] = \"0\"\n",
    "r[\"raters\"][r[\"raters\"] == \"\"] = \"0\"\n",
    "r.likes = r.likes.astype(float)\n",
    "r.raters = r.raters.astype(float)"
   ]
  },
  {
   "cell_type": "code",
   "execution_count": 123,
   "metadata": {},
   "outputs": [],
   "source": [
    "r[\"rating2\"] = (r[\"raters\"] * r[\"rating\"] + (r[\"likes\"] / 2) * 5) / (r[\"raters\"] + (r[\"likes\"]/ 2))\n",
    "max_raters = (r[\"likes\"] + (r[\"raters\"] / 2)).max()\n",
    "mean_rating = r[\"rating2\"].mean()\n",
    "r[\"rating3\"] = ((r[\"likes\"] + (r[\"raters\"] / 2)) / max_raters) * mean_rating + (1 - ((r[\"likes\"] + (r[\"raters\"] / 2)) / max_raters)) * r[\"rating2\"]"
   ]
  },
  {
   "cell_type": "code",
   "execution_count": 124,
   "metadata": {},
   "outputs": [],
   "source": [
    "r[\"duration_int\"] = r[\"duration\"].str.replace(\"\\D\", \"\").astype(int)\n",
    "r.loc[r[\"duration_int\"] == 0, \"duration_int\"] = np.NaN\n",
    "r.loc[r[\"duration_int\"] == 1, \"duration_int\"] = np.NaN\n",
    "r.loc[r[\"duration_int\"] == 2, \"duration_int\"] = np.NaN"
   ]
  },
  {
   "cell_type": "code",
   "execution_count": 125,
   "metadata": {},
   "outputs": [],
   "source": [
    "r[\"ingr_len\"] = r[\"ingredients\"].apply(len)"
   ]
  },
  {
   "cell_type": "code",
   "execution_count": 126,
   "metadata": {},
   "outputs": [],
   "source": [
    "r.sort_values(\"rating3\", ascending = False, inplace = True)"
   ]
  },
  {
   "cell_type": "code",
   "execution_count": 127,
   "metadata": {
    "scrolled": true
   },
   "outputs": [],
   "source": [
    "results_name = r[r[\"name\"].str.lower().str.contains(\"pizza\")] # Name in singular"
   ]
  },
  {
   "cell_type": "code",
   "execution_count": 128,
   "metadata": {},
   "outputs": [],
   "source": [
    "r_index = list(r.index.values)\n",
    "r_categories = list(r.categories.values)\n",
    "r_categories_lower = []\n",
    "for recipe in r_categories:\n",
    "    categories_lower = []\n",
    "    for category in recipe:\n",
    "        category = category.lower()\n",
    "        categories_lower.append(category)\n",
    "    r_categories_lower.append(categories_lower)\n",
    "r_categories_tuple = list(zip(r_index, r_categories_lower))\n",
    "results_categories_tuple = [recipe[0] for recipe in r_categories_tuple if \"pizze\" in recipe[1]] # Category in plural or uncount\n",
    "results_categories_after_tuple = pd.DataFrame(results_categories_tuple).set_index(0)\n",
    "results_categories = pd.merge(results_categories_after_tuple, r, left_index=True, right_index=True)"
   ]
  },
  {
   "cell_type": "code",
   "execution_count": 129,
   "metadata": {},
   "outputs": [],
   "source": [
    "r_tags = list(r.tags.values)\n",
    "r_tags_tuple = list(zip(r_index, r_tags))\n",
    "results_tags_tuple = [recipe[0] for recipe in r_tags_tuple if \"pizze\" in recipe[1]] # Tag in plural or uncountable\n",
    "results_tags_after_tuple = pd.DataFrame(results_tags_tuple).set_index(0)\n",
    "results_tags = pd.merge(results_tags_after_tuple, r, left_index=True, right_index=True)"
   ]
  },
  {
   "cell_type": "code",
   "execution_count": 130,
   "metadata": {
    "scrolled": true
   },
   "outputs": [],
   "source": [
    "r_ingredients = list(r.ingredients.values)\n",
    "r_ingredients_tuple = list(zip(r_index, r_ingredients))\n",
    "results_ingredients_tuple = [recipe[0] for recipe in r_ingredients_tuple if \"pizza\" in recipe[1]]\n",
    "results_ingredients_after_tuple = pd.DataFrame(results_ingredients_tuple).set_index(0)\n",
    "results_ingredients = pd.merge(results_ingredients_after_tuple, r, left_index=True, right_index=True)"
   ]
  },
  {
   "cell_type": "code",
   "execution_count": 131,
   "metadata": {},
   "outputs": [],
   "source": [
    "search_results = pd.concat([results_name, results_categories, results_tags, results_ingredients])"
   ]
  },
  {
   "cell_type": "code",
   "execution_count": 132,
   "metadata": {},
   "outputs": [],
   "source": [
    "ingr_min = 2\n",
    "if len(search_results[search_results[\"ingr_len\"] == ingr_min]) == 0:\n",
    "    ingr_min = 3\n",
    "    while len(search_results[search_results[\"ingr_len\"] == ingr_min]) == 0:\n",
    "        ingr_min += 1\n",
    "smallest_ingredients = search_results[search_results[\"ingr_len\"] == ingr_min]\n",
    "max_rating_ingredients = smallest_ingredients[\"rating3\"].max()\n",
    "best_ingredients = smallest_ingredients[smallest_ingredients[\"rating3\"] == max_rating_ingredients]"
   ]
  },
  {
   "cell_type": "code",
   "execution_count": 134,
   "metadata": {},
   "outputs": [],
   "source": [
    "difficulty = \"Łatwe\"\n",
    "if len(search_results[search_results[\"difficulty\"] == difficulty]) == 0:\n",
    "    difficulty = \"Średnie\"\n",
    "    if len(search_results[search_results[\"difficulty\"] == difficulty]) == 0:\n",
    "        difficulty = \"Trudne\"   \n",
    "easiest = search_results[search_results[\"difficulty\"] == difficulty]\n",
    "max_rating_easiest = easiest[\"rating3\"].max()\n",
    "best_easiest = easiest[easiest[\"rating3\"] == max_rating_easiest]"
   ]
  },
  {
   "cell_type": "code",
   "execution_count": 135,
   "metadata": {},
   "outputs": [],
   "source": [
    "min_time = search_results[\"duration_int\"].min()\n",
    "quickest = search_results[search_results[\"duration_int\"] == min_time]\n",
    "max_rating_quickest = quickest[\"rating3\"].max()\n",
    "best_quickest = quickest[quickest[\"rating3\"] == max_rating_quickest]"
   ]
  },
  {
   "cell_type": "code",
   "execution_count": 136,
   "metadata": {},
   "outputs": [],
   "source": [
    "quickest = quickest.drop(best_quickest.index)\n",
    "second_max_rating_quickest = quickest[\"rating3\"].max()\n",
    "second_best_quickest = quickest[quickest[\"rating3\"] == second_max_rating_quickest]"
   ]
  },
  {
   "cell_type": "code",
   "execution_count": null,
   "metadata": {},
   "outputs": [],
   "source": []
  }
 ],
 "metadata": {
  "kernelspec": {
   "display_name": "Python 3",
   "language": "python",
   "name": "python3"
  },
  "language_info": {
   "codemirror_mode": {
    "name": "ipython",
    "version": 3
   },
   "file_extension": ".py",
   "mimetype": "text/x-python",
   "name": "python",
   "nbconvert_exporter": "python",
   "pygments_lexer": "ipython3",
   "version": "3.6.5"
  }
 },
 "nbformat": 4,
 "nbformat_minor": 2
}
