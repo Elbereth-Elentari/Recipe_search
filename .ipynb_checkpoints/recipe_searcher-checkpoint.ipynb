{
 "cells": [
  {
   "cell_type": "code",
   "execution_count": 261,
   "metadata": {},
   "outputs": [],
   "source": [
    "import json\n",
    "import pandas as pd\n",
    "import os\n",
    "import re\n",
    "import numpy as np\n",
    "pd.set_option(\"display.max_rows\", None)\n",
    "pd.set_option('display.max_colwidth', -1)"
   ]
  },
  {
   "cell_type": "code",
   "execution_count": 262,
   "metadata": {},
   "outputs": [],
   "source": [
    "with open(\"recipes.json\", \"r\") as recipes:\n",
    "    loaded = json.load(recipes)\n",
    "r = pd.DataFrame(loaded)"
   ]
  },
  {
   "cell_type": "code",
   "execution_count": 263,
   "metadata": {},
   "outputs": [],
   "source": [
    "columns_to_float = [\"likes\", \"raters\", \"rating\"]\n",
    "for column in columns_to_float:\n",
    "    r.loc[r[column] == \"\", column] = 0\n",
    "    r[column] = r[column].astype(float)"
   ]
  },
  {
   "cell_type": "code",
   "execution_count": 264,
   "metadata": {},
   "outputs": [],
   "source": [
    "rikes = r[\"raters\"]+(r[\"likes\"]/2)\n",
    "if rikes == 0:\n",
    "    r[\"rating2\"] = 0\n",
    "else:\n",
    "    r[\"rating2\"] = (r[\"raters\"] * r[\"rating\"] + (r[\"likes\"] / 2) * 5) / rikes\n",
    "max_raters = rikes.max()\n",
    "mean_rating = r[\"rating2\"].mean()\n",
    "r[\"rating3\"] = (rikes / max_raters) * r[\"rating2\"] + (1 - (rikes / max_raters)) * mean_rating"
   ]
  },
  {
   "cell_type": "code",
   "execution_count": 265,
   "metadata": {},
   "outputs": [],
   "source": [
    "r.loc[r[\"duration\"] == \"\", \"duration\"] = \"0\"\n",
    "r[\"duration_int\"] = r[\"duration\"].str.replace(\"\\D\", \"\").astype(int)\n",
    "r.loc[r[\"duration_int\"] < 3, \"duration_int\"] = np.NaN"
   ]
  },
  {
   "cell_type": "code",
   "execution_count": 266,
   "metadata": {},
   "outputs": [],
   "source": [
    "r[\"ingr_len\"] = r[\"ingredients\"].apply(len)\n",
    "r.loc[r[\"ingr_len\"] < 3, \"ingr_len\"] = np.NaN"
   ]
  },
  {
   "cell_type": "code",
   "execution_count": 267,
   "metadata": {},
   "outputs": [
    {
     "name": "stdout",
     "output_type": "stream",
     "text": [
      "Czego szukasz? Wpisz w liczbie pojedynczej: pierogi\n",
      "A teraz w liczbie mnogiej: pierog\n"
     ]
    }
   ],
   "source": [
    "name_sing = input(\"Czego szukasz? Wpisz w liczbie pojedynczej: \")\n",
    "name_pl = input(\"A teraz w liczbie mnogiej: \")"
   ]
  },
  {
   "cell_type": "code",
   "execution_count": 295,
   "metadata": {
    "scrolled": true
   },
   "outputs": [],
   "source": [
    "results_name = r[r[\"name\"].str.lower().str.contains(name_sing)]\n",
    "name_index = list(results_name.index.values)\n",
    "results_name2 = results_name.drop(name_index, errors=\"ignore\")"
   ]
  },
  {
   "cell_type": "code",
   "execution_count": 296,
   "metadata": {},
   "outputs": [],
   "source": [
    "def find_result_for_factor(df, df_index, factor_list):\n",
    "    factor_tuple = list(zip(df_index, factor_list))\n",
    "    results_factor_tuple = [recipe for recipe in factor_tuple if (name_sing in recipe[1] or name_pl in recipe[1])]\n",
    "    results_factor_after_tuple = pd.DataFrame([{\"index\" : i, \"factor\" : f} for (i,f) in results_factor_tuple])\n",
    "    if len(results_factor_after_tuple) > 0:\n",
    "        results_factor_after_tuple = results_factor_after_tuple.set_index(\"index\")\n",
    "    return pd.merge(results_factor_after_tuple, df, left_index=True, right_index=True)"
   ]
  },
  {
   "cell_type": "code",
   "execution_count": 297,
   "metadata": {},
   "outputs": [],
   "source": [
    "r_index = list(r.index.values)\n",
    "r_categories = list(r.categories.values)\n",
    "r_categories_lower = []\n",
    "for recipe in r_categories:\n",
    "    categories_lower = []\n",
    "    for category in recipe:\n",
    "        category = category.lower()\n",
    "        categories_lower.append(category)\n",
    "    r_categories_lower.append(categories_lower)\n",
    "results_categories = find_result_for_factor(r, r_index, r_categories_lower)"
   ]
  },
  {
   "cell_type": "code",
   "execution_count": 298,
   "metadata": {},
   "outputs": [],
   "source": [
    "r_tags = list(r.tags.values)\n",
    "results_tags = find_result_for_factor(r, r_index, r_tags)"
   ]
  },
  {
   "cell_type": "code",
   "execution_count": 299,
   "metadata": {
    "scrolled": true
   },
   "outputs": [],
   "source": [
    "r_ingredients = list(r.ingredients.values)\n",
    "results_ingredients = find_result_for_factor(r, r_index, r_ingredients)"
   ]
  },
  {
   "cell_type": "code",
   "execution_count": 329,
   "metadata": {},
   "outputs": [],
   "source": [
    "with_duplicates = pd.concat([results_name, results_name2, results_categories, results_tags, results_ingredients], sort=True)\n",
    "search_results = with_duplicates.drop_duplicates(subset=[\"link\"])"
   ]
  },
  {
   "cell_type": "code",
   "execution_count": 323,
   "metadata": {},
   "outputs": [],
   "source": [
    "def find_2_best(result_df_for_factor):\n",
    "    best_for_factor = result_df_for_factor[result_df_for_factor[\"rating3\"] == result_df_for_factor[\"rating3\"].max()]\n",
    "    dropped = result_df_for_factor.drop(best_for_factor.index)\n",
    "    second_best_for_factor = dropped[dropped[\"rating3\"] == dropped[\"rating3\"].max()]\n",
    "    return best_for_factor, second_best_for_factor"
   ]
  },
  {
   "cell_type": "code",
   "execution_count": 324,
   "metadata": {},
   "outputs": [],
   "source": [
    "ingr_min = 2\n",
    "while len(search_results[search_results[\"ingr_len\"] == ingr_min]) == 0:\n",
    "    ingr_min += 1\n",
    "smallest_ingredients = search_results[search_results[\"ingr_len\"] == ingr_min]\n",
    "best_ingredients, second_best_ingredients = find_2_best(smallest_ingredients)"
   ]
  },
  {
   "cell_type": "code",
   "execution_count": 325,
   "metadata": {},
   "outputs": [],
   "source": [
    "difficulty = \"Łatwe\"\n",
    "if len(search_results[search_results[\"difficulty\"] == difficulty]) == 0:\n",
    "    difficulty = \"Średnie\"\n",
    "    if len(search_results[search_results[\"difficulty\"] == difficulty]) == 0:\n",
    "        difficulty = \"Trudne\"   \n",
    "easiest = search_results[search_results[\"difficulty\"] == difficulty]\n",
    "best_easiest, second_best_easiest = find_2_best(easiest)"
   ]
  },
  {
   "cell_type": "code",
   "execution_count": 326,
   "metadata": {},
   "outputs": [],
   "source": [
    "min_time = search_results[\"duration_int\"].min()\n",
    "quickest = search_results[search_results[\"duration_int\"] == min_time]\n",
    "best_quickest, second_best_quickest = find_2_best(quickest)"
   ]
  },
  {
   "cell_type": "code",
   "execution_count": 327,
   "metadata": {},
   "outputs": [],
   "source": [
    "def print_recipes(result):\n",
    "    for result_number in range(0,len(result)):\n",
    "        \n",
    "        name = result[\"name\"].values[result_number]\n",
    "        print(str(result_number + 1), name, \"\\n\")\n",
    "\n",
    "        ingr_len = result[\"ingr_len\"].values[result_number]\n",
    "        duration = result[\"duration\"].values[result_number]\n",
    "        difficulty = result[\"difficulty\"].values[result_number]\n",
    "        print(\"Liczba składników:\", ingr_len, \"; Czas przygotowania:\", duration, \"; Poziom trudności:\", difficulty)\n",
    "\n",
    "        stars = int(result[\"rating\"].values[result_number])\n",
    "        raters = int(result[\"raters\"].values[result_number])\n",
    "        likes = int(result[\"likes\"].values[result_number])\n",
    "        print(\"Liczba gwiazdek:\", stars, \"; Liczba oceniających:\", raters, \"; Liczba lajków:\", likes, \"\\n\")\n",
    "\n",
    "        ingredients = result[\"ingredients\"].values[result_number]\n",
    "        print(\"Składniki:\")\n",
    "        for ingredient, quantity in ingredients.items():\n",
    "            print(ingredient, \":\", quantity)\n",
    "\n",
    "        instructions = result[\"instructions\"].values[result_number]\n",
    "        print(\"\\n\")\n",
    "        print(instructions, \"\\n\")\n",
    "\n",
    "        link = result[\"link\"].values[result_number]\n",
    "        print(link, \"\\n\\n\")"
   ]
  },
  {
   "cell_type": "code",
   "execution_count": 328,
   "metadata": {
    "scrolled": false
   },
   "outputs": [
    {
     "name": "stdout",
     "output_type": "stream",
     "text": [
      "NAJMNIEJSZA LICZBA SKŁADNIKÓW:\n",
      "\n",
      "1 Ciasto na pierogi \n",
      "\n",
      "Liczba składników: 3.0 ; Czas przygotowania: 30 minut ; Poziom trudności: Średnie\n",
      "Liczba gwiazdek: 0 ; Liczba oceniających: 0 ; Liczba lajków: 3 \n",
      "\n",
      "Składniki:\n",
      "mąka pszenna : 50 dag\n",
      "olej roślinny : 7 łyżek\n",
      "woda : 1 szklanka\n",
      "\n",
      "\n",
      "Krok 1\n",
      "Do 1 szklanki mąki dodaj olej i wrzątek. Porządnie wymieszaj.\n",
      "Krok 2\n",
      "Ciasto musi się wystudzić\n",
      "Krok 3\n",
      "Po wystudzeniu dodaj resztę mąki do uzyskania odpowiedniej konsystencji, która pozwoli na rozwałkowanie. Ciasto powinno nie kleić się do stolnicy oraz powinno być lśniące i elastyczne to pozwoli Ci na łatwe sklejanie pierogów. \n",
      "\n",
      "https://www.przepisy.pl/przepis/ciasto-na-pierogi-3 \n",
      "\n",
      "\n",
      "\n",
      "RÓWNIEŻ NAJMNIEJSZA LICZBA SKŁADNIKÓW:\n",
      "\n",
      "1 Ciasto na pierogi bez jajka \n",
      "\n",
      "Liczba składników: 3.0 ; Czas przygotowania: 15 minut ; Poziom trudności: Średnie\n",
      "Liczba gwiazdek: 4 ; Liczba oceniających: 45 ; Liczba lajków: 0 \n",
      "\n",
      "Składniki:\n",
      "mąka pszenna : 1 szklanka\n",
      "woda : 0,7 szklanki\n",
      "sól : 0,5 łyżeczki\n",
      "\n",
      "\n",
      "Krok 1\n",
      "Mąkę przesiej przez sito.\n",
      "Krok 2\n",
      "Dodaj sól i wodę – wyrób ciasto. Jeśli będzie zbyt rzadkie, dodaj jeszcze nieco mąki.\n",
      "Krok 3\n",
      "Gotowe ciasto podziel na części, każdą z nich kolejno rozwałkuj cienko na stolnicy podsypując mąką. Z rozwałkowanego ciasta wycinaj krążki – możesz użyć do tego celu szklanki. Na każdy krążek nałóż farsz (mięsny, warzywny czy też owocowy) i zlep brzegi. Pierogi gotuj wrzucając je na osolony wrzątek - około 3 minut od momentu, gdy wypłyną na powierzchnię. \n",
      "\n",
      "https://www.przepisy.pl/przepis/ciasto-na-pierogi-bez-jajka \n",
      "\n",
      "\n",
      "===================================================================================================================\n",
      "\n",
      "NAJKRÓTSZY CZAS:\n",
      "\n",
      "1 Pierogi leniwe z truskawkami \n",
      "\n",
      "Liczba składników: 10.0 ; Czas przygotowania: 15 minut ; Poziom trudności: Łatwe\n",
      "Liczba gwiazdek: 4 ; Liczba oceniających: 16 ; Liczba lajków: 579 \n",
      "\n",
      "Składniki:\n",
      "twaróg : 300 g\n",
      "mąka ziemniaczana : 1 łyżka\n",
      "mąka pszenna : 0,33 szklanki\n",
      "dodatkowa mąka do podsypania : 1 garść\n",
      "jajko : 1 szt.\n",
      "cukier wanilinowy : 1 łyżka\n",
      "jogurt gęsty : 150 ml\n",
      "świeże truskawki : 200 g\n",
      "cukier puder : 1 łyżka\n",
      "cynamon z wietnamu : 1 szczypta\n",
      "\n",
      "\n",
      "Krok 1\n",
      "Twaróg, przeciśnięty przez praskę, wymieszaj szybko i energicznie z żółtkiem, mąką ziemniaczaną oraz pszenną i cukrem waniliowym tworząc zwarte ciasto. Odstaw ciasto na 10 minut.\n",
      "Krok 2\n",
      "Następnie podsyp delikatnie mąką, podziel ciasto na mniejsze kawałki i z każdego uformuj wałek.\n",
      "Krok 3\n",
      "Wałki ciasta pokrój pod kątem na mniejsze kawałki. Następnie gotuj w wodzie 2-3 minuty.\n",
      "Krok 4\n",
      "Ugotowane przełóż na talerz i posyp pokrojonymi truskawkami.\n",
      "Krok 5\n",
      "Po wierzchu polej jogurtem i całość posyp cukrem pudrem. Tak przygotowane leniwe możesz również podać posypane cynamonem.\n",
      "\n",
      "Cynamon z Wietnamu\n",
      "Cynamon pozyskiwany jest z kory cynamonowców rosnących m.in. na górzystych terenach Wietnamu. Przyprawę charakteryzuje lekko słodki smak i aromat. Stanowi on doskonałe uzupełnienie deserów, ciast oraz dań z owoców. \n",
      "\n",
      "https://www.przepisy.pl/przepis/pierogi-leniwe-z-truskawkami \n",
      "\n",
      "\n",
      "\n",
      "RÓWNIEŻ NAJKRÓTSZY CZAS:\n",
      "\n",
      "1 Pierogi szwedzkie \n",
      "\n",
      "Liczba składników: 13.0 ; Czas przygotowania: 15 minut ; Poziom trudności: Łatwe\n",
      "Liczba gwiazdek: 4 ; Liczba oceniających: 9 ; Liczba lajków: 2 \n",
      "\n",
      "Składniki:\n",
      "drożdże : 4 dag\n",
      "ciepłe mleko : 1 szklanka\n",
      "cukier : 1 łyżeczka\n",
      "jajko : 1 szt.\n",
      "olej : 2 łyżki\n",
      "kminek : 1 łyżeczka\n",
      "gałka muszkatołowa : 1 szczypta\n",
      "mąka krupczatka : 0,5 kg\n",
      "posiekane pieczarki : 1,5 kg\n",
      "posiekana cebula : 2 szt.\n",
      "sól : 1 szczypta\n",
      "pieprz : 1 szczypta\n",
      "kostka do pieczenia kasia : 1 łyżka\n",
      "\n",
      "\n",
      "Krok 1\n",
      "Farsz: Pieczarki z cebulką poddusić na Kasi, aż woda całkowicie odparuje.\n",
      "Krok 2\n",
      "Przyprawić do smaku.\n",
      "Krok 3\n",
      "Farsz musi być bardzo pikantny.\n",
      "Krok 4\n",
      "Ciasto: Drożdże rozetrzeć z cukrem i zalać połową ciepłego mleka.\n",
      "Krok 5\n",
      "Kiedy zaczyn podwoi objętość, wlać do miski z przesianą mąką, dodać resztę składników (w tym pozostałą część mleka, a w nim rozpuszczoną łyżkę Kasi).\n",
      "Krok 6\n",
      "Wyrobić gładkie ciasto i pozostawić do wyrośnięcia.\n",
      "Krok 7\n",
      "Ciasto rozwałkować bardzo cieniutko (max. 3mm), wykrawać prostokąty ok. 7cm x 15cm, na środku układać farsz i zaklejać boki i końce.\n",
      "Krok 8\n",
      "Kłaść na blasze w odstępach, posmarować rozmąconym jajkiem i posypywać czarnuszką.\n",
      "Krok 9\n",
      "Jak ktoś czarnuszki nie lubi, to pewnie można ją zastąpić innym „sypadłem”, ale ona nadaje pierogom niepowtarzalny smak.\n",
      "Krok 10\n",
      "Podawać z barszczem czerwonym. Pierogi można tez nadziewać np. serem żółtym i szynką. \n",
      "\n",
      "https://www.przepisy.pl/przepis/pierogi-szwedzkie-3654 \n",
      "\n",
      "\n",
      "===================================================================================================================\n",
      "\n",
      "NAJŁATWIEJSZE:\n",
      "\n",
      "1 Pierogi ze szpinakiem i serem feta \n",
      "\n",
      "Liczba składników: 10.0 ; Czas przygotowania: 60 minut ; Poziom trudności: Łatwe\n",
      "Liczba gwiazdek: 5 ; Liczba oceniających: 168 ; Liczba lajków: 2933 \n",
      "\n",
      "Składniki:\n",
      "mąka pszenna : 300 g\n",
      "woda : 120 ml\n",
      "jajka : 1 szt.\n",
      "sól : 5 g\n",
      "szpinak (świeży lub mrożony) : 0,5 kg\n",
      "ser feta : 200 g\n",
      "cebule szalotki : 3 szt.\n",
      "ząbek czosnku : 4 szt.\n",
      "masło : 1 łyżka\n",
      "bulion na włoszczyźnie : 1 szt.\n",
      "\n",
      "\n",
      "Krok 1\n",
      "Za pomocą miksera wymieszaj mąkę z solą, ciepłą wodą i jajkiem. Następnie wyrabiaj ręcznie gładkie ciasto pierogowe. Gotowe odstaw do lodówki na 20 minut.\n",
      "Krok 2\n",
      "Przygotuj farsz. Szpinak oczyść. Szalotki i czosnek pokrój w drobną kostkę. Na patelni smaż czosnek, szalotki, następnie dodaj szpinak i kostkę Bulionu na włoszczyźnie Knorr. Smaż, do momentu, kiedy wszystko się połączy przez kilka minut. Po usmażeniu, jeśli to konieczne, odlej nadmiar płynu. Przełóż szpinak do miski.\n",
      "Krok 3\n",
      "Dodaj ser feta i wszystko razem dokładnie wymieszaj. Odstaw do lodówki na 20 minut.\n",
      "Krok 4\n",
      "Ciasto pierogowe wałkuj na cienkie placki, wytnij małe okrągłe kształty, nakładaj farsz i zwijaj klasyczne pierogi.\n",
      "Krok 5\n",
      "Pierogi ugotuj w osolonym wrzątku, podawaj od razu lub na przykład smażone. \n",
      "\n",
      "https://www.przepisy.pl/przepis/pierogi-z-szpinakiem-i-serem-feta \n",
      "\n",
      "\n",
      "\n",
      "RÓWNIEŻ NAJŁATWIEJSZE:\n",
      "\n",
      "1 Pierogi z grzybami i kapustą - VIDEO \n",
      "\n",
      "Liczba składników: 12.0 ; Czas przygotowania: 90 minut ; Poziom trudności: Łatwe\n",
      "Liczba gwiazdek: 5 ; Liczba oceniających: 12 ; Liczba lajków: 1339 \n",
      "\n",
      "Składniki:\n",
      "suszone grzyby : 100 g\n",
      "kapusta kiszona : 500 g\n",
      "średniej wielkości cebula : 1 szt.\n",
      "mąka : 1 kg\n",
      "ciepła woda : 100 ml\n",
      "olej słonecznikowy : 2 łyżki\n",
      "przyprawa w mini kostkach czosnek : 1 szt.\n",
      "pieprz czarny z wietnamu mielony : 0 szczypty\n",
      "liść laurowy z turcji : 2 szt.\n",
      "kminek z polski : 0,25 łyżki\n",
      "ziele angielskie z meksyku : 3 szt.\n",
      "rama smaż jak szef kuchni, wariant klasyczny : 1 łyżka\n",
      "\n",
      "\n",
      "Krok 1\n",
      "Przygotuj farsz: namocz grzyby w ciepłej wodzie przez około godzinę. Następnie odsącz je, zachowując wodę i drobno posiekaj.\n",
      "Krok 2\n",
      "Przełóż kapustę do garnka, dodaj wodę z płukania grzybów, posiekane grzyby, łyżkę Ramy i przyprawy, kminek posiekaj dokładnie nożem. Gotuj wszystko powoli przez 1 godzinę, aż kapusta stanie się miękka.\n",
      "Krok 3\n",
      "Cebulę pokrój drobno i przesmaż na dużej patelni. Dodaj ją do gotowej kapusty i całość dopraw Przyprawą w mini kostkach Czosnek Knorr oraz odrobiną pieprzu.\n",
      "Krok 4\n",
      "Ostudź kapustę i posiekaj ją, wraz z grzybami, tak, aby farsz nie zawierał dużych kawałków. Jeśli farsz jest bardzo wilgotny możesz dodać trochę bułki tartej.\n",
      "Krok 5\n",
      "Przygotuj ciasto: przesiej mąkę do miski, stopniowo dodawaj olej i wodę zarabiając ciasto. Gdy powstanie spoista masa wyłóż ciasto na stolnicę i wyrabiaj je do momentu, gdy stanie się gładkie i elastyczne.\n",
      "Krok 6\n",
      "Następnie rozwałkuj ciasto na cienki placek, podsypując odrobiną mąki, by nie przywierało do stolnicy. Za pomocą szklanki lub innej formy wykrój okrągłe placuszki.\n",
      "Krok 7\n",
      "Nałóż na nie farsz, zostawiając wolne brzegi (około 3-4 milimetry), po czym zwilż je wodą i sklej ze sobą, dociskając widelcem. Gotuj pierogi w osolonej wodzie przez kilka minut i serwuj gorące, z podsmażoną cebulą. Rada: Jeśli chcesz przygotować uszka, sklej dodatkowo ze sobą dwie skrajne krawędzie pieroga.\n",
      "\n",
      "Ziele angielskie z Meksyku\n",
      "Wbrew nazwie, ziele angielskie pochodzi z Meksyku, skąd zostało przywiezione do Europy. Zawiera dużo olejków eterycznych, które nadają mu intensywny zapach i ostry, gorzkawy smak. Z jego dodatkiem dania zyskują niezwykły aromat. \n",
      "\n",
      "https://www.przepisy.pl/przepis/pierogi-z-grzybami-i-kapusta \n",
      "\n",
      "\n"
     ]
    }
   ],
   "source": [
    "print(\"NAJMNIEJSZA LICZBA SKŁADNIKÓW:\\n\")\n",
    "print_recipes(best_ingredients)\n",
    "print(\"\\nRÓWNIEŻ NAJMNIEJSZA LICZBA SKŁADNIKÓW:\\n\")\n",
    "print_recipes(second_best_ingredients)\n",
    "\n",
    "print(\"===================================================================================================================\")\n",
    "print(\"\\nNAJKRÓTSZY CZAS:\\n\")\n",
    "print_recipes(best_quickest)\n",
    "print(\"\\nRÓWNIEŻ NAJKRÓTSZY CZAS:\\n\")\n",
    "print_recipes(second_best_quickest)\n",
    "\n",
    "print(\"===================================================================================================================\")\n",
    "print(\"\\nNAJŁATWIEJSZE:\\n\")\n",
    "print_recipes(best_easiest)\n",
    "print(\"\\nRÓWNIEŻ NAJŁATWIEJSZE:\\n\")\n",
    "print_recipes(second_best_easiest)"
   ]
  },
  {
   "cell_type": "code",
   "execution_count": null,
   "metadata": {},
   "outputs": [],
   "source": []
  }
 ],
 "metadata": {
  "kernelspec": {
   "display_name": "Python 3",
   "language": "python",
   "name": "python3"
  },
  "language_info": {
   "codemirror_mode": {
    "name": "ipython",
    "version": 3
   },
   "file_extension": ".py",
   "mimetype": "text/x-python",
   "name": "python",
   "nbconvert_exporter": "python",
   "pygments_lexer": "ipython3",
   "version": "3.7.5"
  }
 },
 "nbformat": 4,
 "nbformat_minor": 2
}
