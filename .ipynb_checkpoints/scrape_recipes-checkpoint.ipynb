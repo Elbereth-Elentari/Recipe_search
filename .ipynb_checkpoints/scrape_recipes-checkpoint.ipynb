{
 "cells": [
  {
   "cell_type": "code",
   "execution_count": 9,
   "metadata": {},
   "outputs": [],
   "source": [
    "from selenium import webdriver"
   ]
  },
  {
   "cell_type": "code",
   "execution_count": 2,
   "metadata": {},
   "outputs": [],
   "source": [
    "top_categories = [\"dania-i-przekaski\", \"ciasta\", \"lody-i-napoje\", \"wege\", \"okazje\", \"posilek\",  \"kuchnie-swiata\"]"
   ]
  },
  {
   "cell_type": "code",
   "execution_count": 25,
   "metadata": {},
   "outputs": [],
   "source": [
    "middle_categories = []\n",
    "for category in top_categories:\n",
    "    driver = webdriver.Chrome()\n",
    "    driver.get(\"http://przepisy.pl/przepisy/\" + category)\n",
    "    driver.execute_script(\"window.scrollTo(0, document.body.scrollHeight);\")\n",
    "    subcategories = driver.find_elements_by_class_name(\"category-tile.ng-star-inserted\")\n",
    "    for subcategory in subcategories:\n",
    "        link = subcategory.get_attribute(\"href\")\n",
    "        middle_categories.append(link)\n",
    "    driver.close()"
   ]
  },
  {
   "cell_type": "code",
   "execution_count": 27,
   "metadata": {},
   "outputs": [
    {
     "data": {
      "text/plain": [
       "['https://www.przepisy.pl/przepisy/dania-i-przekaski/dania-glowne',\n",
       " 'https://www.przepisy.pl/przepisy/dania-i-przekaski/dania-maczne',\n",
       " 'https://www.przepisy.pl/przepisy/dania-i-przekaski/domowe-przetwory',\n",
       " 'https://www.przepisy.pl/przepisy/dania-i-przekaski/jednogarnkowe',\n",
       " 'https://www.przepisy.pl/przepisy/dania-i-przekaski/kanapki',\n",
       " 'https://www.przepisy.pl/przepisy/dania-i-przekaski/krokiety',\n",
       " 'https://www.przepisy.pl/przepisy/dania-i-przekaski/makarony',\n",
       " 'https://www.przepisy.pl/przepisy/dania-i-przekaski/nalesniki',\n",
       " 'https://www.przepisy.pl/przepisy/dania-i-przekaski/pizze',\n",
       " 'https://www.przepisy.pl/przepisy/dania-i-przekaski/przystawki',\n",
       " 'https://www.przepisy.pl/przepisy/dania-i-przekaski/salatki',\n",
       " 'https://www.przepisy.pl/przepisy/dania-i-przekaski/sosy',\n",
       " 'https://www.przepisy.pl/przepisy/dania-i-przekaski/street-food',\n",
       " 'https://www.przepisy.pl/przepisy/dania-i-przekaski/surowki',\n",
       " 'https://www.przepisy.pl/przepisy/dania-i-przekaski/zapiekanki',\n",
       " 'https://www.przepisy.pl/przepisy/dania-i-przekaski/zupy',\n",
       " 'https://www.przepisy.pl/przepisy/ciasta/babka-piaskowa',\n",
       " 'https://www.przepisy.pl/przepisy/ciasta/bezy',\n",
       " 'https://www.przepisy.pl/przepisy/ciasta/biszkopty',\n",
       " 'https://www.przepisy.pl/przepisy/ciasta/ciasta-bezglutenowe',\n",
       " 'https://www.przepisy.pl/przepisy/ciasta/ciasta-bez-pieczenia',\n",
       " 'https://www.przepisy.pl/przepisy/ciasta/ciasta-czekoladowe',\n",
       " 'https://www.przepisy.pl/przepisy/ciasta/ciasta-drozdzowe',\n",
       " 'https://www.przepisy.pl/przepisy/ciasta/ciasta-francuskie',\n",
       " 'https://www.przepisy.pl/przepisy/ciasta/ciasta-parzone',\n",
       " 'https://www.przepisy.pl/przepisy/ciasta/ciasta-ucierane',\n",
       " 'https://www.przepisy.pl/przepisy/ciasta/ciasta-z-galaretka',\n",
       " 'https://www.przepisy.pl/przepisy/ciasta/ciasta-z-kremem',\n",
       " 'https://www.przepisy.pl/przepisy/ciasta/ciasta-z-lodami',\n",
       " 'https://www.przepisy.pl/przepisy/ciasta/ciasta-z-makiem',\n",
       " 'https://www.przepisy.pl/przepisy/ciasta/ciasta-z-owocami',\n",
       " 'https://www.przepisy.pl/przepisy/ciasta/ciasta-z-warzywami',\n",
       " 'https://www.przepisy.pl/przepisy/ciasta/ciasteczka',\n",
       " 'https://www.przepisy.pl/przepisy/ciasta/dla-dzieci',\n",
       " 'https://www.przepisy.pl/przepisy/ciasta/gofry',\n",
       " 'https://www.przepisy.pl/przepisy/ciasta/kruche-ciasta',\n",
       " 'https://www.przepisy.pl/przepisy/ciasta/muffinki-i-babeczki',\n",
       " 'https://www.przepisy.pl/przepisy/ciasta/paczki-oponki-donaty',\n",
       " 'https://www.przepisy.pl/przepisy/ciasta/pierniczki',\n",
       " 'https://www.przepisy.pl/przepisy/ciasta/pierniki',\n",
       " 'https://www.przepisy.pl/przepisy/ciasta/serniki',\n",
       " 'https://www.przepisy.pl/przepisy/ciasta/torty',\n",
       " 'https://www.przepisy.pl/przepisy/lody-i-napoje/ciasta-z-lodami-2',\n",
       " 'https://www.przepisy.pl/przepisy/lody-i-napoje/desery-lodowe',\n",
       " 'https://www.przepisy.pl/przepisy/lody-i-napoje/kreatywne-desery-lodowe',\n",
       " 'https://www.przepisy.pl/przepisy/lody-i-napoje/lody-dla-dzieci',\n",
       " 'https://www.przepisy.pl/przepisy/lody-i-napoje/napoje-cieple',\n",
       " 'https://www.przepisy.pl/przepisy/lody-i-napoje/napoje-zimne',\n",
       " 'https://www.przepisy.pl/przepisy/wege/dania-weganskie',\n",
       " 'https://www.przepisy.pl/przepisy/wege/dania-wegetarianskie',\n",
       " 'https://www.przepisy.pl/przepisy/okazje/grill',\n",
       " 'https://www.przepisy.pl/przepisy/okazje/halloween',\n",
       " 'https://www.przepisy.pl/przepisy/okazje/karnawal',\n",
       " 'https://www.przepisy.pl/przepisy/okazje/piknik',\n",
       " 'https://www.przepisy.pl/przepisy/okazje/sylwester',\n",
       " 'https://www.przepisy.pl/przepisy/okazje/tlusty-czwartek',\n",
       " 'https://www.przepisy.pl/przepisy/okazje/walentynki',\n",
       " 'https://www.przepisy.pl/przepisy/okazje/wielkanoc',\n",
       " 'https://www.przepisy.pl/przepisy/okazje/wigilia-i-swieta',\n",
       " 'https://www.przepisy.pl/przepisy/posilek/dania-do-pracy',\n",
       " 'https://www.przepisy.pl/przepisy/posilek/kolacja',\n",
       " 'https://www.przepisy.pl/przepisy/posilek/obiad',\n",
       " 'https://www.przepisy.pl/przepisy/posilek/przekaski',\n",
       " 'https://www.przepisy.pl/przepisy/posilek/sniadanie',\n",
       " 'https://www.przepisy.pl/przepisy/kuchnie-swiata/kuchnia-amerykanska',\n",
       " 'https://www.przepisy.pl/przepisy/kuchnie-swiata/kuchnia-balkanska',\n",
       " 'https://www.przepisy.pl/przepisy/kuchnie-swiata/kuchnia-bliskiego-wschodu',\n",
       " 'https://www.przepisy.pl/przepisy/kuchnie-swiata/kuchnia-chinska',\n",
       " 'https://www.przepisy.pl/przepisy/kuchnie-swiata/kuchnia-francuska',\n",
       " 'https://www.przepisy.pl/przepisy/kuchnie-swiata/kuchnia-fusion',\n",
       " 'https://www.przepisy.pl/przepisy/kuchnie-swiata/kuchnia-grecka',\n",
       " 'https://www.przepisy.pl/przepisy/kuchnie-swiata/kuchnia-gruzinska',\n",
       " 'https://www.przepisy.pl/przepisy/kuchnie-swiata/kuchnia-hiszpanska',\n",
       " 'https://www.przepisy.pl/przepisy/kuchnie-swiata/kuchnia-indyjska',\n",
       " 'https://www.przepisy.pl/przepisy/kuchnie-swiata/kuchnia-koreanska',\n",
       " 'https://www.przepisy.pl/przepisy/kuchnie-swiata/kuchnia-meksykanska',\n",
       " 'https://www.przepisy.pl/przepisy/kuchnie-swiata/kuchnia-niemiecka',\n",
       " 'https://www.przepisy.pl/przepisy/kuchnie-swiata/kuchnia-orientalna',\n",
       " 'https://www.przepisy.pl/przepisy/kuchnie-swiata/kuchnia-polnocnej-afryki',\n",
       " 'https://www.przepisy.pl/przepisy/kuchnie-swiata/kuchnia-polska',\n",
       " 'https://www.przepisy.pl/przepisy/kuchnie-swiata/kuchnia-rosyjska',\n",
       " 'https://www.przepisy.pl/przepisy/kuchnie-swiata/kuchnia-srodziemnomorska',\n",
       " 'https://www.przepisy.pl/przepisy/kuchnie-swiata/kuchnia-tajska',\n",
       " 'https://www.przepisy.pl/przepisy/kuchnie-swiata/kuchnia-turecka',\n",
       " 'https://www.przepisy.pl/przepisy/kuchnie-swiata/kuchnia-wegierska',\n",
       " 'https://www.przepisy.pl/przepisy/kuchnie-swiata/kuchnia-wloska']"
      ]
     },
     "execution_count": 27,
     "metadata": {},
     "output_type": "execute_result"
    }
   ],
   "source": [
    "middle_categories"
   ]
  },
  {
   "cell_type": "code",
   "execution_count": null,
   "metadata": {},
   "outputs": [],
   "source": []
  }
 ],
 "metadata": {
  "kernelspec": {
   "display_name": "Python 3",
   "language": "python",
   "name": "python3"
  },
  "language_info": {
   "codemirror_mode": {
    "name": "ipython",
    "version": 3
   },
   "file_extension": ".py",
   "mimetype": "text/x-python",
   "name": "python",
   "nbconvert_exporter": "python",
   "pygments_lexer": "ipython3",
   "version": "3.6.5"
  }
 },
 "nbformat": 4,
 "nbformat_minor": 2
}
