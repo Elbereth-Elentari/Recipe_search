{
 "cells": [
  {
   "cell_type": "code",
   "execution_count": 70,
   "metadata": {},
   "outputs": [],
   "source": [
    "from selenium import webdriver\n",
    "from selenium.common.exceptions import StaleElementReferenceException\n",
    "import json"
   ]
  },
  {
   "cell_type": "code",
   "execution_count": 3,
   "metadata": {},
   "outputs": [],
   "source": [
    "top_categories = [\"dania-i-przekaski\", \"ciasta\", \"lody-i-napoje\", \"wege\", \"okazje\", \"posilek\",  \"kuchnie-swiata\"]"
   ]
  },
  {
   "cell_type": "code",
   "execution_count": 5,
   "metadata": {},
   "outputs": [],
   "source": [
    "middle_categories = []\n",
    "for category in top_categories:\n",
    "    driver = webdriver.Chrome()\n",
    "    driver.get(\"http://przepisy.pl/przepisy/\" + category)\n",
    "    driver.execute_script(\"window.scrollTo(0, document.body.scrollHeight);\")\n",
    "    subcategories = driver.find_elements_by_class_name(\"category-tile.ng-star-inserted\")\n",
    "    for subcategory in subcategories:\n",
    "        link = subcategory.get_attribute(\"href\")\n",
    "        middle_categories.append(link)\n",
    "    driver.close()"
   ]
  },
  {
   "cell_type": "code",
   "execution_count": 2,
   "metadata": {},
   "outputs": [],
   "source": [
    "middle_categories = []\n",
    "with open(\"middle_categories.txt\", \"r\") as middle:\n",
    "    for line in middle:\n",
    "        line = line.strip()\n",
    "        middle_categories.append(line)"
   ]
  },
  {
   "cell_type": "code",
   "execution_count": 3,
   "metadata": {},
   "outputs": [],
   "source": [
    "current_links = []\n",
    "with open(\"recipe_links.txt\", \"r\") as current:\n",
    "    for link in current:\n",
    "        link = link.strip()\n",
    "        current_links.append(link)"
   ]
  },
  {
   "cell_type": "code",
   "execution_count": 4,
   "metadata": {},
   "outputs": [],
   "source": [
    "def deal_with_links(recipe_links, current_links):\n",
    "    page_links = driver.find_elements_by_class_name(\"recipe-box__title\")\n",
    "    for link in page_links:\n",
    "        try:\n",
    "            link = link.get_attribute(\"href\")\n",
    "            if link not in current_links:\n",
    "                current_links.append(link)\n",
    "                recipe_links.write(link + \"\\n\")\n",
    "        except StaleElementReferenceException:\n",
    "            pass\n",
    "    return recipe_links, current_links"
   ]
  },
  {
   "cell_type": "code",
   "execution_count": 6,
   "metadata": {},
   "outputs": [],
   "source": [
    "#current_links = []\n",
    "driver = webdriver.Chrome()\n",
    "with open(\"recipe_links.txt\", \"a+\") as recipe_links:\n",
    "    for category in middle_categories[-1:]:\n",
    "        driver.get(category)\n",
    "        deal_with_links(recipe_links, current_links)\n",
    "        page_range = driver.find_elements_by_class_name(\"pagination__btn--outer\")\n",
    "        if len(page_range) > 1:\n",
    "            last_page = page_range[1].text.strip()              \n",
    "            for page in range(2, int(last_page)):\n",
    "                driver.get(category + \"?page=\" + str(page))\n",
    "                deal_with_links(recipe_links, current_links)"
   ]
  },
  {
   "cell_type": "code",
   "execution_count": 38,
   "metadata": {},
   "outputs": [],
   "source": [
    "def make_ingredient_list(ingredient_container):\n",
    "    ingredients = []\n",
    "    generic_ingredients = ingredient_container.find_elements_by_class_name(\"row-ingredient\")\n",
    "    product_ingredients = ingredient_container.find_elements_by_class_name(\"row-ingredient-product\")\n",
    "    for ingredient in generic_ingredients:\n",
    "        ingredients.append(ingredient)\n",
    "    for ingredient in product_ingredients:\n",
    "        ingredients.append(ingredient)\n",
    "    return ingredients"
   ]
  },
  {
   "cell_type": "code",
   "execution_count": 76,
   "metadata": {},
   "outputs": [],
   "source": [
    "def save_ingredients(ingredient_container):\n",
    "    final_ingredients = {}\n",
    "    ingredients = make_ingredient_list(ingredient_container)\n",
    "    for ingredient in ingredients:\n",
    "        name = ingredient.find_element_by_class_name(\"ingredient-name\").text.lower().strip()\n",
    "        name = name.replace(\" knorr\", \"\")\n",
    "        try:\n",
    "            amount = ingredient.find_element_by_class_name(\"quantity\").text.strip()\n",
    "        except:\n",
    "            amount = \"\"\n",
    "        final_ingredients[name] = amount\n",
    "    return final_ingredients"
   ]
  },
  {
   "cell_type": "code",
   "execution_count": null,
   "metadata": {},
   "outputs": [],
   "source": [
    "recipes = []\n",
    "for link in current_links[:50]:\n",
    "    driver.get(link)\n",
    "    try:\n",
    "        name = driver.find_element_by_tag_name(\"h1\").text\n",
    "        category_container = driver.find_element_by_class_name(\"breadcrumbs\")\n",
    "        categories = category_container.find_elements_by_tag_name(\"li\")\n",
    "        categories_for_writing = []\n",
    "        for category in categories[1:-1]:\n",
    "            category = category.text.strip()\n",
    "            categories_for_writing.append(category)\n",
    "        stars = driver.find_element_by_class_name(\"stars\")\n",
    "        ratings = stars.find_elements_by_tag_name(\"span\")\n",
    "        assessment = 0\n",
    "        for rating in ratings[:5]:\n",
    "            rating = rating.get_attribute(\"class\")\n",
    "            rating = rating.replace(\"star track-event \", \"\")\n",
    "            rating = rating.strip()\n",
    "            if rating == \"full\":\n",
    "                assessment += 1\n",
    "            elif rating == \"half\":\n",
    "                assessment += 0.5\n",
    "            elif rating == \"empty\":\n",
    "                pass\n",
    "        raters = ratings[5].text.strip()\n",
    "        likes = driver.find_element_by_class_name(\"yumm-container\").text.strip()\n",
    "        duration = driver.find_element_by_class_name(\"attr-slider\").find_element_by_class_name(\"hidden-xs\").text.strip()\n",
    "        ingredient_container = driver.find_element_by_class_name(\"ingredient-ul\")\n",
    "        final_ingredients = save_ingredients(ingredient_container)\n",
    "        instructions = driver.find_element_by_class_name(\"recipe-container-steps\").text\n",
    "        instructions = instructions.replace(\"WYDRUKUJ\\n\", \"\")\n",
    "        instructions = instructions.replace(\"ZAPISZ PDF\", \"\")\n",
    "        instructions = instructions.replace(\"Przygotowanie\", \"\")\n",
    "        instructions = instructions.strip()\n",
    "        tags_container = driver.find_elements_by_class_name(\"tag-link\")\n",
    "        tags = []\n",
    "        for tag in tags_container:\n",
    "            tag = tag.text.strip()\n",
    "            tags.append(tag)\n",
    "        recipe = {\"name\" : name, \"categories\" : categories_for_writing, \"rating\" : assessment, \"raters\" : raters, \n",
    "                       \"likes\": likes, \"duration\" : duration, \"ingredients\" : final_ingredients, \"instructions\" : \n",
    "                      instructions, \"tags\" : tags, \"link\" : link}\n",
    "        recipes.append(recipe)\n",
    "    except StaleElementReferenceException:\n",
    "        pass"
   ]
  },
  {
   "cell_type": "code",
   "execution_count": null,
   "metadata": {},
   "outputs": [],
   "source": [
    "with open(\"recipes50.json\", \"w\") as final:\n",
    "    json.dump(recipes, final)"
   ]
  },
  {
   "cell_type": "code",
   "execution_count": null,
   "metadata": {},
   "outputs": [],
   "source": [
    "with open(\"recipes50.json\", \"r\") as final:\n",
    "    loaded = json.load(final)\n",
    "print(loaded)"
   ]
  },
  {
   "cell_type": "code",
   "execution_count": null,
   "metadata": {},
   "outputs": [],
   "source": []
  }
 ],
 "metadata": {
  "kernelspec": {
   "display_name": "Python 3",
   "language": "python",
   "name": "python3"
  },
  "language_info": {
   "codemirror_mode": {
    "name": "ipython",
    "version": 3
   },
   "file_extension": ".py",
   "mimetype": "text/x-python",
   "name": "python",
   "nbconvert_exporter": "python",
   "pygments_lexer": "ipython3",
   "version": "3.6.5"
  }
 },
 "nbformat": 4,
 "nbformat_minor": 2
}
